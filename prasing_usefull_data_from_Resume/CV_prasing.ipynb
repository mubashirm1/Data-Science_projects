{
 "cells": [
  {
   "cell_type": "code",
   "execution_count": 49,
   "metadata": {},
   "outputs": [
    {
     "name": "stdout",
     "output_type": "stream",
     "text": [
      "PDF 'Abhishek Kakar-Resume_2024.pdf' opened successfully!\n",
      "PDF 'Aditya Panwar.pdf' opened successfully!\n",
      "PDF 'AJ New Resume.pdf' opened successfully!\n",
      "PDF 'Akila Resume final-1.pdf' opened successfully!\n",
      "PDF 'Alaluddin  Resume (1) (1).pdf' opened successfully!\n",
      "PDF 'ananya resume latest.pdf' opened successfully!\n",
      "PDF 'Antu_Roy_2_CV .pdf' opened successfully!\n",
      "PDF 'ANUPRIYA SHANKAR.pdf' opened successfully!\n",
      "PDF 'ARITRAA ADHIKARY Sss.pdf' opened successfully!\n",
      "PDF 'Ark22.1_resume .pdf' opened successfully!\n",
      "PDF 'Avishek Banerjee Updated Resume.pdf' opened successfully!\n",
      "PDF 'Bala_Resume_2024 .pdf' opened successfully!\n",
      "PDF 'Bharathi_CV.pdf' opened successfully!\n",
      "PDF 'CV- Tausif M SAP.pdf' opened successfully!\n",
      "PDF 'CV_2023081614123822.pdf' opened successfully!\n",
      "PDF 'Deepti Agrawal IT Recruiter New (1).pdf' opened successfully!\n",
      "PDF 'Disha_MBA_1_yrs.pdf' opened successfully!\n",
      "PDF 'Durgadevi PR .pdf' opened successfully!\n",
      "PDF 'gus education  resume (1).pdf' opened successfully!\n",
      "PDF 'Jyoti Datir Resume.pdf' opened successfully!\n",
      "PDF 'Karim@Resume.pdf' opened successfully!\n",
      "PDF 'Lakshmipriya_IMC & Lead Generation Executive (1).pdf' opened successfully!\n",
      "PDF 'M.Nagapradheesh CV.pdf' opened successfully!\n",
      "PDF 'Mohammad ZakaUl Rehaman.pdf' opened successfully!\n",
      "PDF 'Monika-Pandey.pdf' opened successfully!\n",
      "PDF 'My Resume.pdf' opened successfully!\n",
      "PDF 'n mohini latest.pdf' opened successfully!\n",
      "PDF 'NAUKRI_KOMAL_SAINATH_UPADHYAY.pdf' opened successfully!\n",
      "PDF 'Neha resume BDM (1).pdf' opened successfully!\n",
      "PDF 'new resume.pdf' opened successfully!\n",
      "PDF 'New Soham CV 2023.pdf' opened successfully!\n",
      "PDF 'Paramesh Kanna - CV.pdf' opened successfully!\n",
      "PDF 'Ponsaravanakumar Resume.pdf' opened successfully!\n",
      "PDF 'Pritishree srichandan cv.pdf' opened successfully!\n",
      "PDF 'Rahul_BDM.pdf' opened successfully!\n",
      "PDF 'Resume(US Staffing).edited (1).pdf' opened successfully!\n",
      "PDF 'Sachin_birajdar_CV.pdf' opened successfully!\n",
      "PDF 'Sanjana DM.pdf' opened successfully!\n",
      "PDF 'Satyendra Dey-CV_2024.pdf' opened successfully!\n",
      "PDF 'Saumya_Resume.pdf' opened successfully!\n",
      "PDF 'Shalini Vijayvargiya 2023.pdf' opened successfully!\n",
      "PDF 'Shanmugapriya_Resume.pdf' opened successfully!\n",
      "PDF 'SHASHWATHI_S_Resume_July2024 .pdf' opened successfully!\n",
      "PDF 'Sivateja D.pdf' opened successfully!\n",
      "PDF 'TRITAMM PAULL-2024 RESUME.pdf' opened successfully!\n",
      "PDF 'UjalaRachchhResume.pdf' opened successfully!\n",
      "PDF 'Vaibhav's RESUME.pdf' opened successfully!\n",
      "PDF 'VijayaSainiResume 2.pdf' opened successfully!\n"
     ]
    }
   ],
   "source": [
    "import os\n",
    "import pdfplumber\n",
    "import re\n",
    "import csv\n",
    "import pikepdf\n",
    "\n",
    "# Specify the path to the folder\n",
    "folder_path = 'Business development resume'\n",
    "\n",
    "# Loop through all files in the folder\n",
    "for filename in os.listdir(folder_path):\n",
    "    # Create full file path\n",
    "    full_path = os.path.join(folder_path, filename)\n",
    "    \n",
    "    # Check if it's a file and has a .pdf extension\n",
    "    if os.path.isfile(full_path) and filename.lower().endswith('.pdf'):\n",
    "        try:\n",
    "            # Attempt to open the PDF\n",
    "            with pikepdf.open(full_path) as pdf:\n",
    "                print(f\"PDF '{filename}' opened successfully!\")\n",
    "        except pikepdf.PdfError as e:\n",
    "            print(f\"Error opening PDF '{filename}': {e}\")\n",
    "        except Exception as e:\n",
    "            print(f\"An unexpected error occurred with '{filename}': {e}\")"
   ]
  },
  {
   "cell_type": "code",
   "execution_count": 60,
   "metadata": {},
   "outputs": [],
   "source": [
    "# Function to extract text from a PDF file\n",
    "def extract_text_from_pdf(pdf_file):\n",
    "    with pdfplumber.open(pdf_file) as pdf:\n",
    "        full_text = \"\"\n",
    "        for page in pdf.pages:\n",
    "            full_text += page.extract_text()\n",
    "        return full_text\n",
    "# Function to extract useful data from the text\n",
    "def extract_data_from_text(text):\n",
    "    # Example of extracting name, email, and phone number using regular expressions\n",
    "    name = re.search(r'^([A-Za-z]+\\s[A-Za-z]+)', text)\n",
    "    email = re.search(r'\\b[A-Za-z0-9._%+-]+@[A-Za-z0-9.-]+\\.[A-Z|a-z]{2,}\\b', text)\n",
    "    phone = re.search(r'(\\+?\\d{1,3})?\\s?(\\(?\\d{3}\\)?)?[-.\\s]?\\d{3}[-.\\s]?\\d{4}', text)\n",
    "    # Return a dictionary with the extracted information\n",
    "    return {\n",
    "        'Name': name.group() if name else 'N/A',\n",
    "        'Email': email.group() if email else 'N/A',\n",
    "        'Phone': phone.group() if phone else 'N/A'\n",
    "    }"
   ]
  },
  {
   "cell_type": "code",
   "execution_count": 61,
   "metadata": {},
   "outputs": [],
   "source": [
    "# Function to process the folder of CVs\n",
    "def process_cv_folder(folder_path, output_csv):\n",
    "    # Create an empty list to store extracted data\n",
    "    extracted_data = []\n",
    "\n",
    "    # Loop through all PDF files in the folder\n",
    "    for filename in os.listdir(folder_path):\n",
    "        if filename.endswith(\".pdf\"):\n",
    "            file_path = os.path.join(folder_path, filename)\n",
    "            text = extract_text_from_pdf(file_path)\n",
    "            data = extract_data_from_text(text)\n",
    "            extracted_data.append(data)\n",
    "    # Write the extracted data to a CSV file\n",
    "    with open(output_csv, mode='w', newline='') as csv_file:\n",
    "        fieldnames = ['Name', 'Email', 'Phone']\n",
    "        writer = csv.DictWriter(csv_file, fieldnames=fieldnames)\n",
    "        \n",
    "        # Write the header\n",
    "        writer.writeheader()\n",
    "        \n",
    "        # Write the data rows\n",
    "        for row in extracted_data:\n",
    "            writer.writerow(row)"
   ]
  },
  {
   "cell_type": "code",
   "execution_count": 62,
   "metadata": {},
   "outputs": [],
   "source": [
    "# Specify the folder containing the CV PDFs and output CSV file\n",
    "folder_path = 'Business development resume'  # Path to the folder containing CVs\n",
    "output_csv = 'output_cv_data.csv'  # Output CSV file name\n",
    "\n",
    "# Process the folder and extract data to CSV\n",
    "process_cv_folder(folder_path, output_csv)"
   ]
  },
  {
   "cell_type": "code",
   "execution_count": 78,
   "metadata": {},
   "outputs": [],
   "source": [
    "import pandas as pd\n",
    "cv_data = pd.read_csv('output_cv_data.csv')\n",
    "cv_data.dropna(inplace=True)\n",
    "cv_data.drop(cv_data[cv_data['Name'] == 'CURRICULUM VITAE'].index, inplace=True)"
   ]
  }
 ],
 "metadata": {
  "kernelspec": {
   "display_name": "Python 3",
   "language": "python",
   "name": "python3"
  },
  "language_info": {
   "codemirror_mode": {
    "name": "ipython",
    "version": 3
   },
   "file_extension": ".py",
   "mimetype": "text/x-python",
   "name": "python",
   "nbconvert_exporter": "python",
   "pygments_lexer": "ipython3",
   "version": "3.10.11"
  }
 },
 "nbformat": 4,
 "nbformat_minor": 2
}
